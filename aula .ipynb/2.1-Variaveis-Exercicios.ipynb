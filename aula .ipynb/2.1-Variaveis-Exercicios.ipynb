{
 "cells": [
  {
   "cell_type": "code",
   "execution_count": 7,
   "id": "c5e139f1",
   "metadata": {},
   "outputs": [
    {
     "name": "stdout",
     "output_type": "stream",
     "text": [
      "a c e f\n",
      "7\n",
      "11\n",
      "150.0\n",
      "A média é: 20.0\n",
      "25.0\n",
      "Meu nome e:\n",
      "valdeci\n"
     ]
    }
   ],
   "source": [
    "#Q1\n",
    "print (\"a c e f\")\n",
    "\n",
    "#Q2\n",
    "# Script 1\n",
    "x = 10\n",
    "y = x + 2\n",
    "print(y - 5)\n",
    "\n",
    "# Script 3\n",
    "a = 10\n",
    "a = a + 1\n",
    "print(a)\n",
    "\n",
    "# Script 4\n",
    "saldo_da_conta = 1500\n",
    "juros = 0.1\n",
    "print(saldo_da_conta * juros)\n",
    "\n",
    "#Q3\n",
    "# Declarando as variáveis\n",
    "num1 = 10\n",
    "num2 = 20\n",
    "num3 = 30\n",
    "\n",
    "# Calculando a média\n",
    "media = (num1 + num2 + num3) / 3\n",
    "\n",
    "# Imprimindo o resultado\n",
    "print(\"A média é:\", media)\n",
    "\n",
    "#Q4\n",
    "vel_kmh = 90\n",
    "vel_ms = vel_kmh / 3.6\n",
    "print(vel_ms)\n",
    "\n",
    "#Q5\n",
    "nome = \"valdeci\"\n",
    "print(\"Meu nome e:\")\n",
    "print(nome)"
   ]
  }
 ],
 "metadata": {
  "kernelspec": {
   "display_name": "Python 3",
   "language": "python",
   "name": "python3"
  },
  "language_info": {
   "codemirror_mode": {
    "name": "ipython",
    "version": 3
   },
   "file_extension": ".py",
   "mimetype": "text/x-python",
   "name": "python",
   "nbconvert_exporter": "python",
   "pygments_lexer": "ipython3",
   "version": "3.13.8"
  }
 },
 "nbformat": 4,
 "nbformat_minor": 5
}
