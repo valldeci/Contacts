{
 "cells": [
  {
   "cell_type": "code",
   "execution_count": 1,
   "id": "199009b8",
   "metadata": {},
   "outputs": [
    {
     "name": "stdout",
     "output_type": "stream",
     "text": [
      "Bruto: 800\n",
      "INSS: 80.0\n",
      "Sindicato: 40.0\n",
      "Líquido: 680.0\n",
      "Salário bruto: 800\n",
      "Salário líquido: 680.0\n",
      "R$ 100 equivalem a CNY 144.93\n",
      "Velocidade média necessária: 3.91 m/s\n"
     ]
    }
   ],
   "source": [
    "#Q1\n",
    "salario = 20 * 40\n",
    "inss = salario * 0.10\n",
    "sindicato = salario * 0.05\n",
    "liquido = salario - inss - sindicato\n",
    "\n",
    "print(\"Bruto:\", salario)\n",
    "print(\"INSS:\", inss)\n",
    "print(\"Sindicato:\", sindicato)\n",
    "print(\"Líquido:\", liquido)\n",
    "\n",
    "#Q2\n",
    "salario_hora = 20\n",
    "horas_semana = 40\n",
    "\n",
    "bruto = salario_hora * horas_semana\n",
    "liquido = bruto - (bruto * 0.10 + bruto * 0.05) \n",
    "\n",
    "print(\"Salário bruto:\", bruto)\n",
    "print(\"Salário líquido:\", liquido)\n",
    "\n",
    "#Q3\n",
    "reais = 100\n",
    "\n",
    "cny = reais / 0.69\n",
    "\n",
    "print(\"R$\", reais, \"equivalem a CNY\", round(cny, 2))\n",
    "\n",
    "#Q4\n",
    "\n",
    "dist_km = 42.195\n",
    "tempo_horas = 3\n",
    "\n",
    "dist_metros = dist_km * 1000     \n",
    "tempo_segundos = tempo_horas * 3600  \n",
    "\n",
    "v_media = dist_metros / tempo_segundos\n",
    "\n",
    "print(\"Velocidade média necessária:\", round(v_media, 2), \"m/s\")"
   ]
  }
 ],
 "metadata": {
  "kernelspec": {
   "display_name": "Python 3",
   "language": "python",
   "name": "python3"
  },
  "language_info": {
   "codemirror_mode": {
    "name": "ipython",
    "version": 3
   },
   "file_extension": ".py",
   "mimetype": "text/x-python",
   "name": "python",
   "nbconvert_exporter": "python",
   "pygments_lexer": "ipython3",
   "version": "3.13.8"
  }
 },
 "nbformat": 4,
 "nbformat_minor": 5
}
